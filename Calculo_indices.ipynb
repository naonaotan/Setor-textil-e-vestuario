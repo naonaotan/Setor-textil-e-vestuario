{
  "nbformat": 4,
  "nbformat_minor": 0,
  "metadata": {
    "colab": {
      "provenance": [],
      "include_colab_link": true
    },
    "kernelspec": {
      "name": "python3",
      "display_name": "Python 3"
    },
    "language_info": {
      "name": "python"
    }
  },
  "cells": [
    {
      "cell_type": "markdown",
      "metadata": {
        "id": "view-in-github",
        "colab_type": "text"
      },
      "source": [
        "<a href=\"https://colab.research.google.com/github/naonaotan/Setor-textil-e-vestuario/blob/main/Calculo_indices.ipynb\" target=\"_parent\"><img src=\"https://colab.research.google.com/assets/colab-badge.svg\" alt=\"Open In Colab\"/></a>"
      ]
    },
    {
      "cell_type": "code",
      "execution_count": null,
      "metadata": {
        "id": "bycPa8sCVCpm"
      },
      "outputs": [],
      "source": [
        "import pandas as pd\n",
        "import os\n",
        "from google.colab import drive"
      ]
    },
    {
      "cell_type": "code",
      "source": [
        "# Montar drive\n",
        "caminho_drive = \"/content/drive/\"\n",
        "drive.mount(caminho_drive,force_remount=True)"
      ],
      "metadata": {
        "colab": {
          "base_uri": "https://localhost:8080/"
        },
        "id": "FbbC7xeRXeRG",
        "outputId": "bec8b362-c36e-4a3e-8d9a-37344d53fcba"
      },
      "execution_count": null,
      "outputs": [
        {
          "output_type": "stream",
          "name": "stdout",
          "text": [
            "Mounted at /content/drive/\n"
          ]
        }
      ]
    },
    {
      "cell_type": "code",
      "source": [
        "# Definir qual diretório estamos trabalhando\n",
        "caminho_zip = \"/content/drive/MyDrive\"\n",
        "os.chdir(caminho_zip)"
      ],
      "metadata": {
        "id": "sWiUtCd9XhAJ"
      },
      "execution_count": null,
      "outputs": []
    },
    {
      "cell_type": "code",
      "source": [
        "# Listar arquivos na pasta com os zips\n",
        "lista_arquivos_zip = os.listdir(\".//\")\n",
        "# lista_arquivos_zip"
      ],
      "metadata": {
        "id": "50WXw1oknUgA"
      },
      "execution_count": null,
      "outputs": []
    },
    {
      "cell_type": "code",
      "source": [
        "df = pd.read_csv('dfs_consolidadas.csv')\n",
        "# df.head()"
      ],
      "metadata": {
        "id": "6vBd7vhhntjZ"
      },
      "execution_count": null,
      "outputs": []
    },
    {
      "cell_type": "code",
      "source": [
        "df_setor = df.loc[df['SETOR_ATIV'] == 'Têxtil e Vestuário']"
      ],
      "metadata": {
        "id": "NM9MuB0OsCTN"
      },
      "execution_count": null,
      "outputs": []
    },
    {
      "cell_type": "code",
      "source": [
        "df_ultimo = df_setor.loc[df['ORDEM_EXERC'] == 'ÚLTIMO']"
      ],
      "metadata": {
        "id": "DrS7QQBRttRW"
      },
      "execution_count": null,
      "outputs": []
    },
    {
      "cell_type": "code",
      "source": [
        "df_fim_exr = df_ultimo.loc[df['DT_FIM_EXERC'] == '2023-12-31']"
      ],
      "metadata": {
        "id": "T3TKnVf4Zo8i"
      },
      "execution_count": null,
      "outputs": []
    },
    {
      "cell_type": "code",
      "source": [
        "valores_filtrados = ['3.11', '2.03', '1', '3.01']\n",
        "\n",
        "df = df_fim_exr.loc[df['CD_CONTA'].isin(valores_filtrados)]"
      ],
      "metadata": {
        "id": "_bDzwHbeetEx"
      },
      "execution_count": null,
      "outputs": []
    },
    {
      "cell_type": "code",
      "source": [
        "df = df[['DENOM_CIA', 'CD_CONTA', 'VL_CONTA']]"
      ],
      "metadata": {
        "id": "KA9DUr5FfXlo"
      },
      "execution_count": null,
      "outputs": []
    },
    {
      "cell_type": "code",
      "source": [
        "df_ll = df.loc[df['CD_CONTA'] == '3.11']\n",
        "df_pl = df.loc[df['CD_CONTA'] == '2.03']\n",
        "df_ta = df.loc[df['CD_CONTA'] == '1']\n",
        "df_rc = df.loc[df['CD_CONTA'] == '3.01']"
      ],
      "metadata": {
        "id": "XX0C1-Nafy0i"
      },
      "execution_count": null,
      "outputs": []
    },
    {
      "cell_type": "code",
      "source": [
        "df_1 = pd.merge(df_ll,df_pl, how='left', on = 'DENOM_CIA')"
      ],
      "metadata": {
        "id": "eaQ6p7oRgg8o"
      },
      "execution_count": null,
      "outputs": []
    },
    {
      "cell_type": "code",
      "source": [
        "df_2 = pd.merge(df_1,df_ta, how='left', on = 'DENOM_CIA')"
      ],
      "metadata": {
        "id": "U5SENiXjhkbk"
      },
      "execution_count": null,
      "outputs": []
    },
    {
      "cell_type": "code",
      "source": [
        "df_2 = df_2.rename(columns={'CD_CONTA_x': 'CD_CONTA_311', 'CD_CONTA_y': 'CD_CONTA_203', 'VL_CONTA_x': 'VL_CONTA_311', 'VL_CONTA_y': 'VL_CONTA_203', 'VL_CONTA': 'VL_CONTA_1', 'CD_CONTA': 'CD_CONTA_1'})"
      ],
      "metadata": {
        "id": "UCGhH1gHh7kQ"
      },
      "execution_count": null,
      "outputs": []
    },
    {
      "cell_type": "code",
      "source": [
        "df_3 = pd.merge(df_2,df_rc, how='left', on = 'DENOM_CIA')"
      ],
      "metadata": {
        "id": "CVzePCkFhw6O"
      },
      "execution_count": null,
      "outputs": []
    },
    {
      "cell_type": "code",
      "source": [
        "df_3 = df_3.rename(columns={'CD_CONTA': 'CD_CONTA_301', 'VL_CONTA': 'VL_CONTA_301'})"
      ],
      "metadata": {
        "id": "WR5k1eCCjTYM"
      },
      "execution_count": null,
      "outputs": []
    },
    {
      "cell_type": "code",
      "source": [
        "df_4 = df_3\n",
        "\n",
        "df_4['ROE'] = df_4['VL_CONTA_311'] / df_4['VL_CONTA_203']\n",
        "df_4['ROA'] = df_4['VL_CONTA_311'] / df_4['VL_CONTA_1']\n",
        "df_4['ML'] = df_4['VL_CONTA_311'] / df_4['VL_CONTA_301']"
      ],
      "metadata": {
        "id": "x6aNGy9Ejzq7"
      },
      "execution_count": null,
      "outputs": []
    },
    {
      "cell_type": "code",
      "source": [
        "df_final = df_4[['DENOM_CIA', 'ROE', 'ROA', 'ML']]\n",
        "df_final.head(1)"
      ],
      "metadata": {
        "colab": {
          "base_uri": "https://localhost:8080/",
          "height": 81
        },
        "id": "UiHfnRURk4Ud",
        "outputId": "389805e5-4062-4a72-90d0-86ebc7d44776"
      },
      "execution_count": null,
      "outputs": [
        {
          "output_type": "execute_result",
          "data": {
            "text/plain": [
              "                    DENOM_CIA       ROE     ROA        ML\n",
              "0  GUARARAPES CONFECCOES S.A. -0.006559 -0.0024 -0.003895"
            ],
            "text/html": [
              "\n",
              "  <div id=\"df-656aa775-3488-4e3c-afe8-a80bf1489c08\" class=\"colab-df-container\">\n",
              "    <div>\n",
              "<style scoped>\n",
              "    .dataframe tbody tr th:only-of-type {\n",
              "        vertical-align: middle;\n",
              "    }\n",
              "\n",
              "    .dataframe tbody tr th {\n",
              "        vertical-align: top;\n",
              "    }\n",
              "\n",
              "    .dataframe thead th {\n",
              "        text-align: right;\n",
              "    }\n",
              "</style>\n",
              "<table border=\"1\" class=\"dataframe\">\n",
              "  <thead>\n",
              "    <tr style=\"text-align: right;\">\n",
              "      <th></th>\n",
              "      <th>DENOM_CIA</th>\n",
              "      <th>ROE</th>\n",
              "      <th>ROA</th>\n",
              "      <th>ML</th>\n",
              "    </tr>\n",
              "  </thead>\n",
              "  <tbody>\n",
              "    <tr>\n",
              "      <th>0</th>\n",
              "      <td>GUARARAPES CONFECCOES S.A.</td>\n",
              "      <td>-0.006559</td>\n",
              "      <td>-0.0024</td>\n",
              "      <td>-0.003895</td>\n",
              "    </tr>\n",
              "  </tbody>\n",
              "</table>\n",
              "</div>\n",
              "    <div class=\"colab-df-buttons\">\n",
              "\n",
              "  <div class=\"colab-df-container\">\n",
              "    <button class=\"colab-df-convert\" onclick=\"convertToInteractive('df-656aa775-3488-4e3c-afe8-a80bf1489c08')\"\n",
              "            title=\"Convert this dataframe to an interactive table.\"\n",
              "            style=\"display:none;\">\n",
              "\n",
              "  <svg xmlns=\"http://www.w3.org/2000/svg\" height=\"24px\" viewBox=\"0 -960 960 960\">\n",
              "    <path d=\"M120-120v-720h720v720H120Zm60-500h600v-160H180v160Zm220 220h160v-160H400v160Zm0 220h160v-160H400v160ZM180-400h160v-160H180v160Zm440 0h160v-160H620v160ZM180-180h160v-160H180v160Zm440 0h160v-160H620v160Z\"/>\n",
              "  </svg>\n",
              "    </button>\n",
              "\n",
              "  <style>\n",
              "    .colab-df-container {\n",
              "      display:flex;\n",
              "      gap: 12px;\n",
              "    }\n",
              "\n",
              "    .colab-df-convert {\n",
              "      background-color: #E8F0FE;\n",
              "      border: none;\n",
              "      border-radius: 50%;\n",
              "      cursor: pointer;\n",
              "      display: none;\n",
              "      fill: #1967D2;\n",
              "      height: 32px;\n",
              "      padding: 0 0 0 0;\n",
              "      width: 32px;\n",
              "    }\n",
              "\n",
              "    .colab-df-convert:hover {\n",
              "      background-color: #E2EBFA;\n",
              "      box-shadow: 0px 1px 2px rgba(60, 64, 67, 0.3), 0px 1px 3px 1px rgba(60, 64, 67, 0.15);\n",
              "      fill: #174EA6;\n",
              "    }\n",
              "\n",
              "    .colab-df-buttons div {\n",
              "      margin-bottom: 4px;\n",
              "    }\n",
              "\n",
              "    [theme=dark] .colab-df-convert {\n",
              "      background-color: #3B4455;\n",
              "      fill: #D2E3FC;\n",
              "    }\n",
              "\n",
              "    [theme=dark] .colab-df-convert:hover {\n",
              "      background-color: #434B5C;\n",
              "      box-shadow: 0px 1px 3px 1px rgba(0, 0, 0, 0.15);\n",
              "      filter: drop-shadow(0px 1px 2px rgba(0, 0, 0, 0.3));\n",
              "      fill: #FFFFFF;\n",
              "    }\n",
              "  </style>\n",
              "\n",
              "    <script>\n",
              "      const buttonEl =\n",
              "        document.querySelector('#df-656aa775-3488-4e3c-afe8-a80bf1489c08 button.colab-df-convert');\n",
              "      buttonEl.style.display =\n",
              "        google.colab.kernel.accessAllowed ? 'block' : 'none';\n",
              "\n",
              "      async function convertToInteractive(key) {\n",
              "        const element = document.querySelector('#df-656aa775-3488-4e3c-afe8-a80bf1489c08');\n",
              "        const dataTable =\n",
              "          await google.colab.kernel.invokeFunction('convertToInteractive',\n",
              "                                                    [key], {});\n",
              "        if (!dataTable) return;\n",
              "\n",
              "        const docLinkHtml = 'Like what you see? Visit the ' +\n",
              "          '<a target=\"_blank\" href=https://colab.research.google.com/notebooks/data_table.ipynb>data table notebook</a>'\n",
              "          + ' to learn more about interactive tables.';\n",
              "        element.innerHTML = '';\n",
              "        dataTable['output_type'] = 'display_data';\n",
              "        await google.colab.output.renderOutput(dataTable, element);\n",
              "        const docLink = document.createElement('div');\n",
              "        docLink.innerHTML = docLinkHtml;\n",
              "        element.appendChild(docLink);\n",
              "      }\n",
              "    </script>\n",
              "  </div>\n",
              "\n",
              "    </div>\n",
              "  </div>\n"
            ],
            "application/vnd.google.colaboratory.intrinsic+json": {
              "type": "dataframe",
              "variable_name": "df_final",
              "summary": "{\n  \"name\": \"df_final\",\n  \"rows\": 23,\n  \"fields\": [\n    {\n      \"column\": \"DENOM_CIA\",\n      \"properties\": {\n        \"dtype\": \"category\",\n        \"num_unique_values\": 8,\n        \"samples\": [\n          \"AREZZO IND\\u00daSTRIA E COM\\u00c9RCIO S.A.\",\n          \"ALPARGATAS S.A.\",\n          \"GUARARAPES CONFECCOES S.A.\"\n        ],\n        \"semantic_type\": \"\",\n        \"description\": \"\"\n      }\n    },\n    {\n      \"column\": \"ROE\",\n      \"properties\": {\n        \"dtype\": \"number\",\n        \"std\": 0.31774919722298345,\n        \"min\": -0.5010061792632906,\n        \"max\": 0.3087247457394173,\n        \"num_unique_values\": 8,\n        \"samples\": [\n          0.13610772459380854,\n          -0.5010061792632906,\n          -0.006559241379508402\n        ],\n        \"semantic_type\": \"\",\n        \"description\": \"\"\n      }\n    },\n    {\n      \"column\": \"ROA\",\n      \"properties\": {\n        \"dtype\": \"number\",\n        \"std\": 0.19548482056687744,\n        \"min\": -0.29514290965831247,\n        \"max\": 0.21419099921631263,\n        \"num_unique_values\": 8,\n        \"samples\": [\n          0.06671342109913413,\n          -0.29514290965831247,\n          -0.002400392134112557\n        ],\n        \"semantic_type\": \"\",\n        \"description\": \"\"\n      }\n    },\n    {\n      \"column\": \"ML\",\n      \"properties\": {\n        \"dtype\": \"number\",\n        \"std\": 0.2934141341922398,\n        \"min\": -0.5001100653268512,\n        \"max\": 0.22915409102620102,\n        \"num_unique_values\": 8,\n        \"samples\": [\n          0.08225543289878946,\n          -0.5001100653268512,\n          -0.003895224155028557\n        ],\n        \"semantic_type\": \"\",\n        \"description\": \"\"\n      }\n    }\n  ]\n}"
            }
          },
          "metadata": {},
          "execution_count": 18
        }
      ]
    }
  ]
}